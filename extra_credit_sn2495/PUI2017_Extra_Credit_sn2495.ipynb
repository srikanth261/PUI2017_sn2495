{
 "cells": [
  {
   "cell_type": "markdown",
   "metadata": {},
   "source": [
    "# A Study of Crime in the state of New York"
   ]
  },
  {
   "cell_type": "markdown",
   "metadata": {},
   "source": [
    "Study the nature of crimes in the New York State and New York City:\n",
    "\n",
    "1. Is the crime rate higher in New York City compared to the rest of the state?\n",
    "2. Is the rate of violent crimes higher in NYC compared to the rest of the state? \n",
    "3. Has there been an increase or decrease in the overall crime rate in NYC since 1990?\n",
    "4. How well can we predict the overall crime rate in NYC with year, population and County as the variables?"
   ]
  },
  {
   "cell_type": "code",
   "execution_count": 174,
   "metadata": {},
   "outputs": [],
   "source": [
    "import pandas as pd\n",
    "import numpy as np\n",
    "import matplotlib.pyplot as plt\n",
    "import os\n",
    "from scipy.stats.mstats import ttest_ind\n",
    "from statsmodels.tsa.stattools import adfuller\n",
    "from sklearn.cross_validation import train_test_split\n",
    "from sklearn.linear_model import RidgeCV\n",
    "from sklearn.linear_model import LassoCV\n",
    "\n",
    "\n",
    "%matplotlib inline"
   ]
  },
  {
   "cell_type": "code",
   "execution_count": 110,
   "metadata": {},
   "outputs": [],
   "source": [
    "data = pd.read_csv('https://data.ny.gov/api/views/34dd-6g2j/rows.csv?accessType=DOWNLOAD')"
   ]
  },
  {
   "cell_type": "code",
   "execution_count": 111,
   "metadata": {},
   "outputs": [
    {
     "data": {
      "text/html": [
       "<div>\n",
       "<table border=\"1\" class=\"dataframe\">\n",
       "  <thead>\n",
       "    <tr style=\"text-align: right;\">\n",
       "      <th></th>\n",
       "      <th>County</th>\n",
       "      <th>Year</th>\n",
       "      <th>Population</th>\n",
       "      <th>Index Count</th>\n",
       "      <th>Index Rate</th>\n",
       "      <th>Violent Count</th>\n",
       "      <th>Violent Rate</th>\n",
       "      <th>Property Count</th>\n",
       "      <th>Property Rate</th>\n",
       "      <th>Firearm Count</th>\n",
       "      <th>Firearm Rate</th>\n",
       "    </tr>\n",
       "  </thead>\n",
       "  <tbody>\n",
       "    <tr>\n",
       "      <th>0</th>\n",
       "      <td>Albany</td>\n",
       "      <td>2016</td>\n",
       "      <td>308401.0</td>\n",
       "      <td>8764</td>\n",
       "      <td>2841.8</td>\n",
       "      <td>1102</td>\n",
       "      <td>357.3</td>\n",
       "      <td>7662</td>\n",
       "      <td>2484.4</td>\n",
       "      <td>126.0</td>\n",
       "      <td>40.9</td>\n",
       "    </tr>\n",
       "    <tr>\n",
       "      <th>1</th>\n",
       "      <td>Albany</td>\n",
       "      <td>2015</td>\n",
       "      <td>308613.0</td>\n",
       "      <td>8635</td>\n",
       "      <td>2798.0</td>\n",
       "      <td>1041</td>\n",
       "      <td>337.3</td>\n",
       "      <td>7594</td>\n",
       "      <td>2460.7</td>\n",
       "      <td>114.0</td>\n",
       "      <td>36.9</td>\n",
       "    </tr>\n",
       "    <tr>\n",
       "      <th>2</th>\n",
       "      <td>Albany</td>\n",
       "      <td>2014</td>\n",
       "      <td>308166.0</td>\n",
       "      <td>9181</td>\n",
       "      <td>2979.2</td>\n",
       "      <td>1003</td>\n",
       "      <td>325.5</td>\n",
       "      <td>8178</td>\n",
       "      <td>2653.8</td>\n",
       "      <td>147.0</td>\n",
       "      <td>47.7</td>\n",
       "    </tr>\n",
       "    <tr>\n",
       "      <th>3</th>\n",
       "      <td>Albany</td>\n",
       "      <td>2013</td>\n",
       "      <td>306300.0</td>\n",
       "      <td>9457</td>\n",
       "      <td>3087.5</td>\n",
       "      <td>1006</td>\n",
       "      <td>328.4</td>\n",
       "      <td>8451</td>\n",
       "      <td>2759.1</td>\n",
       "      <td>150.0</td>\n",
       "      <td>49.0</td>\n",
       "    </tr>\n",
       "    <tr>\n",
       "      <th>4</th>\n",
       "      <td>Albany</td>\n",
       "      <td>2012</td>\n",
       "      <td>305204.0</td>\n",
       "      <td>9975</td>\n",
       "      <td>3268.3</td>\n",
       "      <td>1012</td>\n",
       "      <td>331.6</td>\n",
       "      <td>8963</td>\n",
       "      <td>2936.7</td>\n",
       "      <td>137.0</td>\n",
       "      <td>44.9</td>\n",
       "    </tr>\n",
       "  </tbody>\n",
       "</table>\n",
       "</div>"
      ],
      "text/plain": [
       "   County  Year  Population  Index Count  Index Rate  Violent Count  \\\n",
       "0  Albany  2016    308401.0         8764      2841.8           1102   \n",
       "1  Albany  2015    308613.0         8635      2798.0           1041   \n",
       "2  Albany  2014    308166.0         9181      2979.2           1003   \n",
       "3  Albany  2013    306300.0         9457      3087.5           1006   \n",
       "4  Albany  2012    305204.0         9975      3268.3           1012   \n",
       "\n",
       "   Violent Rate  Property Count  Property Rate  Firearm Count  Firearm Rate  \n",
       "0         357.3            7662         2484.4          126.0          40.9  \n",
       "1         337.3            7594         2460.7          114.0          36.9  \n",
       "2         325.5            8178         2653.8          147.0          47.7  \n",
       "3         328.4            8451         2759.1          150.0          49.0  \n",
       "4         331.6            8963         2936.7          137.0          44.9  "
      ]
     },
     "execution_count": 111,
     "metadata": {},
     "output_type": "execute_result"
    }
   ],
   "source": [
    "data.head()"
   ]
  },
  {
   "cell_type": "code",
   "execution_count": 112,
   "metadata": {},
   "outputs": [],
   "source": [
    "pop = data.groupby(['Year']).sum()['Population']"
   ]
  },
  {
   "cell_type": "code",
   "execution_count": 187,
   "metadata": {},
   "outputs": [
    {
     "data": {
      "text/plain": [
       "Text(0.5,1,'Population Growth in the State of NY')"
      ]
     },
     "execution_count": 187,
     "metadata": {},
     "output_type": "execute_result"
    },
    {
     "data": {
      "image/png": "[encoded data removed]",
      "text/plain": [
       "<matplotlib.figure.Figure at 0x7f126c150898>"
      ]
     },
     "metadata": {},
     "output_type": "display_data"
    }
   ],
   "source": [
    "plt.figure(figsize=(15,5))\n",
    "plt.plot(pop.index, pop/1000000)\n",
    "plt.xlabel('Year')\n",
    "plt.ylabel('Population (Millions)')\n",
    "#plt.text(.5, .05, 'Population Growth in the State of NY', ha='center')\n",
    "plt.title('Population Growth in the State of NY')\n"
   ]
  },
  {
   "cell_type": "markdown",
   "metadata": {},
   "source": [
    "Fig1: Population of the state of NY plotted against year from 1990 to 2016"
   ]
  },
  {
   "cell_type": "code",
   "execution_count": 114,
   "metadata": {},
   "outputs": [
    {
     "data": {
      "text/plain": [
       "(1674, 11)"
      ]
     },
     "execution_count": 114,
     "metadata": {},
     "output_type": "execute_result"
    }
   ],
   "source": [
    "data.shape"
   ]
  },
  {
   "cell_type": "code",
   "execution_count": 115,
   "metadata": {},
   "outputs": [
    {
     "name": "stdout",
     "output_type": "stream",
     "text": [
      "<class 'pandas.core.frame.DataFrame'>\n",
      "RangeIndex: 1674 entries, 0 to 1673\n",
      "Data columns (total 11 columns):\n",
      "County            1674 non-null object\n",
      "Year              1674 non-null int64\n",
      "Population        1674 non-null float64\n",
      "Index Count       1674 non-null int64\n",
      "Index Rate        1674 non-null float64\n",
      "Violent Count     1674 non-null int64\n",
      "Violent Rate      1674 non-null float64\n",
      "Property Count    1674 non-null int64\n",
      "Property Rate     1674 non-null float64\n",
      "Firearm Count     1599 non-null float64\n",
      "Firearm Rate      1599 non-null float64\n",
      "dtypes: float64(6), int64(4), object(1)\n",
      "memory usage: 143.9+ KB\n"
     ]
    }
   ],
   "source": [
    "data.info()"
   ]
  },
  {
   "cell_type": "markdown",
   "metadata": {},
   "source": [
    "*** There is some data missing in the firearm count/firearm rate. These columns will be dropped because my focus is on the crime rate only *** "
   ]
  },
  {
   "cell_type": "markdown",
   "metadata": {},
   "source": [
    "*** How many counties are there?***"
   ]
  },
  {
   "cell_type": "code",
   "execution_count": 116,
   "metadata": {},
   "outputs": [
    {
     "data": {
      "text/plain": [
       "Index(['Albany', 'Allegany', 'Bronx', 'Broome', 'Cattaraugus', 'Cayuga',\n",
       "       'Chautauqua', 'Chemung', 'Chenango', 'Clinton', 'Columbia', 'Cortland',\n",
       "       'Delaware', 'Dutchess', 'Erie', 'Essex', 'Franklin', 'Fulton',\n",
       "       'Genesee', 'Greene', 'Hamilton', 'Herkimer', 'Jefferson', 'Kings',\n",
       "       'Lewis', 'Livingston', 'Madison', 'Monroe', 'Montgomery', 'Nassau',\n",
       "       'New York', 'Niagara', 'Oneida', 'Onondaga', 'Ontario', 'Orange',\n",
       "       'Orleans', 'Oswego', 'Otsego', 'Putnam', 'Queens', 'Rensselaer',\n",
       "       'Richmond', 'Rockland', 'Saratoga', 'Schenectady', 'Schoharie',\n",
       "       'Schuyler', 'Seneca', 'St Lawrence', 'St. Lawrence', 'Steuben',\n",
       "       'Suffolk', 'Sullivan', 'Tioga', 'Tompkins', 'Ulster', 'Warren',\n",
       "       'Washington', 'Wayne', 'Westchester', 'Wyoming', 'Yates'],\n",
       "      dtype='object', name='County')"
      ]
     },
     "execution_count": 116,
     "metadata": {},
     "output_type": "execute_result"
    }
   ],
   "source": [
    "data.groupby(['County']).sum().index"
   ]
  },
  {
   "cell_type": "code",
   "execution_count": 117,
   "metadata": {},
   "outputs": [
    {
     "data": {
      "text/plain": [
       "63"
      ]
     },
     "execution_count": 117,
     "metadata": {},
     "output_type": "execute_result"
    }
   ],
   "source": [
    "len(data.groupby(['County']).sum().index)"
   ]
  },
  {
   "cell_type": "markdown",
   "metadata": {},
   "source": [
    "*** There are 63 Counties. Among this the counties in NYC are: 'New York', 'Kings', 'Bronx', 'Queens', 'Richmond' ***"
   ]
  },
  {
   "cell_type": "code",
   "execution_count": 118,
   "metadata": {},
   "outputs": [],
   "source": [
    "# Let us create a list of counties in NYC and a list of counties in the rest of the state\n",
    "nyc = ['New York', 'Kings', 'Bronx', 'Queens', 'Richmond' ]\n",
    "\n",
    "rest = [i for i in data.groupby(['County']).sum().index if i not in nyc]"
   ]
  },
  {
   "cell_type": "code",
   "execution_count": 119,
   "metadata": {},
   "outputs": [],
   "source": [
    "data1 = data.copy()\n",
    "\n",
    "data1['place'] = data1['County'].apply(lambda i: 'nyc' if i in nyc else 'rest')"
   ]
  },
  {
   "cell_type": "code",
   "execution_count": 120,
   "metadata": {},
   "outputs": [],
   "source": [
    "data2 = data1.drop(['County', 'Index Rate', 'Violent Rate', 'Property Rate', 'Firearm Count' ,'Firearm Rate'], axis=1)"
   ]
  },
  {
   "cell_type": "code",
   "execution_count": 121,
   "metadata": {},
   "outputs": [
    {
     "data": {
      "text/plain": [
       "((1539, 5), (135, 5))"
      ]
     },
     "execution_count": 121,
     "metadata": {},
     "output_type": "execute_result"
    }
   ],
   "source": [
    "data_rural = data2[data2['place'] == 'rest'].drop(['place'], axis =1)\n",
    "data_urban = data2[data2['place'] == 'nyc'].drop(['place'], axis =1)\n",
    "\n",
    "data_rural.shape, data_urban.shape"
   ]
  },
  {
   "cell_type": "code",
   "execution_count": 122,
   "metadata": {},
   "outputs": [
    {
     "data": {
      "text/html": [
       "<div>\n",
       "<table border=\"1\" class=\"dataframe\">\n",
       "  <thead>\n",
       "    <tr style=\"text-align: right;\">\n",
       "      <th></th>\n",
       "      <th>Year</th>\n",
       "      <th>Population</th>\n",
       "      <th>Index Count</th>\n",
       "      <th>Violent Count</th>\n",
       "      <th>Property Count</th>\n",
       "    </tr>\n",
       "  </thead>\n",
       "  <tbody>\n",
       "    <tr>\n",
       "      <th>0</th>\n",
       "      <td>2016</td>\n",
       "      <td>308401.0</td>\n",
       "      <td>8764</td>\n",
       "      <td>1102</td>\n",
       "      <td>7662</td>\n",
       "    </tr>\n",
       "    <tr>\n",
       "      <th>1</th>\n",
       "      <td>2015</td>\n",
       "      <td>308613.0</td>\n",
       "      <td>8635</td>\n",
       "      <td>1041</td>\n",
       "      <td>7594</td>\n",
       "    </tr>\n",
       "    <tr>\n",
       "      <th>2</th>\n",
       "      <td>2014</td>\n",
       "      <td>308166.0</td>\n",
       "      <td>9181</td>\n",
       "      <td>1003</td>\n",
       "      <td>8178</td>\n",
       "    </tr>\n",
       "    <tr>\n",
       "      <th>3</th>\n",
       "      <td>2013</td>\n",
       "      <td>306300.0</td>\n",
       "      <td>9457</td>\n",
       "      <td>1006</td>\n",
       "      <td>8451</td>\n",
       "    </tr>\n",
       "    <tr>\n",
       "      <th>4</th>\n",
       "      <td>2012</td>\n",
       "      <td>305204.0</td>\n",
       "      <td>9975</td>\n",
       "      <td>1012</td>\n",
       "      <td>8963</td>\n",
       "    </tr>\n",
       "  </tbody>\n",
       "</table>\n",
       "</div>"
      ],
      "text/plain": [
       "   Year  Population  Index Count  Violent Count  Property Count\n",
       "0  2016    308401.0         8764           1102            7662\n",
       "1  2015    308613.0         8635           1041            7594\n",
       "2  2014    308166.0         9181           1003            8178\n",
       "3  2013    306300.0         9457           1006            8451\n",
       "4  2012    305204.0         9975           1012            8963"
      ]
     },
     "execution_count": 122,
     "metadata": {},
     "output_type": "execute_result"
    }
   ],
   "source": [
    "data_rural.head()"
   ]
  },
  {
   "cell_type": "code",
   "execution_count": 123,
   "metadata": {},
   "outputs": [],
   "source": [
    "yearly_rural_data = data_rural.groupby(['Year']).sum()\n",
    "yearly_urban_data = data_urban.groupby(['Year']).sum()"
   ]
  },
  {
   "cell_type": "markdown",
   "metadata": {},
   "source": [
    "# 1. Comparing the overall crime rate in NYC with Rest of the State"
   ]
  },
  {
   "cell_type": "markdown",
   "metadata": {},
   "source": [
    "*** Hypothesis : Crime rate in NYC is higher than rest of the state ***\n",
    "\n",
    "*** H0: There is no difference in the index crime rate per 1000 people between NYC and rest of the state. Significance 0.05 ***\n",
    "\n",
    "*** Ha: The index crime rate per 1000 people for NYC is greater than rest of the state. Significance 0.05 ***\n",
    "\n",
    "***We will perform one tailed t-test to compare the 2 variables. We assume that the 2 variables are independant ***"
   ]
  },
  {
   "cell_type": "code",
   "execution_count": 124,
   "metadata": {},
   "outputs": [],
   "source": [
    "yearly_rural_data['index_per_thousand'] = (yearly_rural_data['Index Count']/yearly_rural_data['Population'])*1000\n",
    "yearly_urban_data['index_per_thousand'] = (yearly_urban_data['Index Count']/yearly_urban_data['Population'])*1000"
   ]
  },
  {
   "cell_type": "code",
   "execution_count": 125,
   "metadata": {},
   "outputs": [
    {
     "data": {
      "text/plain": [
       "Ttest_indResult(statistic=-2.7406030551752747, pvalue=0.010209896841721832)"
      ]
     },
     "execution_count": 125,
     "metadata": {},
     "output_type": "execute_result"
    }
   ],
   "source": [
    "ttest_ind(yearly_rural_data['index_per_thousand'], yearly_urban_data['index_per_thousand'], equal_var= False)"
   ]
  },
  {
   "cell_type": "markdown",
   "metadata": {},
   "source": [
    "***Two sided p-value = 0.0102 (rounded) ***\n",
    "\n",
    "\n",
    "***One sided P-value = 0.0102/2 = 0.0050 ***\n",
    "\n",
    "***P-value is less than 0.05 so we reject the Null hypothesis. The crime rate per 1000 people in NYC is greater than the rest of the state. This is along expected lines.***"
   ]
  },
  {
   "cell_type": "markdown",
   "metadata": {},
   "source": [
    "# 2. Comparing the Violent Crime rate of NYC with the rest of the state"
   ]
  },
  {
   "cell_type": "markdown",
   "metadata": {},
   "source": [
    "*** Hypothesis : Violent Crime rate in NYC is higher than rest of the state ***\n",
    "\n",
    "*** H0: There is no difference in the Violent crime rate per 1000 people between NYC and rest of the state. Significance 0.05 ***\n",
    "\n",
    "*** Ha: The Violent crime rate per 1000 people for NYC is greater than rest of the state. Significance 0.05 ***\n",
    "\n",
    "***We will perform one tailed t-test to compare the 2 variables. We assume that the 2 variables are independant ***"
   ]
  },
  {
   "cell_type": "code",
   "execution_count": 128,
   "metadata": {},
   "outputs": [],
   "source": [
    "yearly_rural_data['violent_per_thousand'] = (yearly_rural_data['Violent Count']/yearly_rural_data['Population'])*1000\n",
    "yearly_urban_data['violent_per_thousand'] = (yearly_urban_data['Violent Count']/yearly_urban_data['Population'])*1000"
   ]
  },
  {
   "cell_type": "code",
   "execution_count": 129,
   "metadata": {},
   "outputs": [
    {
     "data": {
      "text/plain": [
       "Ttest_indResult(statistic=-6.6561400352517976, pvalue=4.3266626834383776e-07)"
      ]
     },
     "execution_count": 129,
     "metadata": {},
     "output_type": "execute_result"
    }
   ],
   "source": [
    "ttest_ind(yearly_rural_data['violent_per_thousand'], yearly_urban_data['violent_per_thousand'], equal_var= False)"
   ]
  },
  {
   "cell_type": "markdown",
   "metadata": {},
   "source": [
    "***Two sided p-value = 4.32e-07 (rounded) ***\n",
    "\n",
    "\n",
    "***One sided P-value = 2.16e-07 ***\n",
    "\n",
    "***P-value is less than 0.05 so we reject the Null hypothesis. The violent crime rate per 1000 people in NYC is greater than the rest of the state. This is along expected lines.***"
   ]
  },
  {
   "cell_type": "markdown",
   "metadata": {},
   "source": [
    "# 3.Has there been an increase or decrease in the overall crime rate in NYC since 1990?"
   ]
  },
  {
   "cell_type": "code",
   "execution_count": 131,
   "metadata": {},
   "outputs": [
    {
     "data": {
      "text/html": [
       "<div>\n",
       "<table border=\"1\" class=\"dataframe\">\n",
       "  <thead>\n",
       "    <tr style=\"text-align: right;\">\n",
       "      <th></th>\n",
       "      <th>Population</th>\n",
       "      <th>Index Count</th>\n",
       "      <th>Violent Count</th>\n",
       "      <th>Property Count</th>\n",
       "      <th>index_per_thousand</th>\n",
       "      <th>violent_per_thousand</th>\n",
       "    </tr>\n",
       "    <tr>\n",
       "      <th>Year</th>\n",
       "      <th></th>\n",
       "      <th></th>\n",
       "      <th></th>\n",
       "      <th></th>\n",
       "      <th></th>\n",
       "      <th></th>\n",
       "    </tr>\n",
       "  </thead>\n",
       "  <tbody>\n",
       "    <tr>\n",
       "      <th>1990</th>\n",
       "      <td>7322564.0</td>\n",
       "      <td>711556</td>\n",
       "      <td>174689</td>\n",
       "      <td>536867</td>\n",
       "      <td>97.173067</td>\n",
       "      <td>23.856261</td>\n",
       "    </tr>\n",
       "    <tr>\n",
       "      <th>1991</th>\n",
       "      <td>7350023.0</td>\n",
       "      <td>680521</td>\n",
       "      <td>170486</td>\n",
       "      <td>510035</td>\n",
       "      <td>92.587601</td>\n",
       "      <td>23.195302</td>\n",
       "    </tr>\n",
       "    <tr>\n",
       "      <th>1992</th>\n",
       "      <td>7375097.0</td>\n",
       "      <td>627237</td>\n",
       "      <td>159655</td>\n",
       "      <td>467582</td>\n",
       "      <td>85.047966</td>\n",
       "      <td>21.647851</td>\n",
       "    </tr>\n",
       "    <tr>\n",
       "      <th>1993</th>\n",
       "      <td>7347257.0</td>\n",
       "      <td>600403</td>\n",
       "      <td>153548</td>\n",
       "      <td>446855</td>\n",
       "      <td>81.717980</td>\n",
       "      <td>20.898684</td>\n",
       "    </tr>\n",
       "    <tr>\n",
       "      <th>1994</th>\n",
       "      <td>7336224.0</td>\n",
       "      <td>530827</td>\n",
       "      <td>136571</td>\n",
       "      <td>394256</td>\n",
       "      <td>72.356978</td>\n",
       "      <td>18.615980</td>\n",
       "    </tr>\n",
       "  </tbody>\n",
       "</table>\n",
       "</div>"
      ],
      "text/plain": [
       "      Population  Index Count  Violent Count  Property Count  \\\n",
       "Year                                                           \n",
       "1990   7322564.0       711556         174689          536867   \n",
       "1991   7350023.0       680521         170486          510035   \n",
       "1992   7375097.0       627237         159655          467582   \n",
       "1993   7347257.0       600403         153548          446855   \n",
       "1994   7336224.0       530827         136571          394256   \n",
       "\n",
       "      index_per_thousand  violent_per_thousand  \n",
       "Year                                            \n",
       "1990           97.173067             23.856261  \n",
       "1991           92.587601             23.195302  \n",
       "1992           85.047966             21.647851  \n",
       "1993           81.717980             20.898684  \n",
       "1994           72.356978             18.615980  "
      ]
     },
     "execution_count": 131,
     "metadata": {},
     "output_type": "execute_result"
    }
   ],
   "source": [
    "yearly_urban_data.head()"
   ]
  },
  {
   "cell_type": "markdown",
   "metadata": {},
   "source": [
    "Consider the overall crime rate"
   ]
  },
  {
   "cell_type": "code",
   "execution_count": 135,
   "metadata": {},
   "outputs": [],
   "source": [
    "yearly_index_urban = yearly_urban_data['index_per_thousand']"
   ]
  },
  {
   "cell_type": "markdown",
   "metadata": {},
   "source": [
    "*** First we will do a visual inspection with a plot ***"
   ]
  },
  {
   "cell_type": "code",
   "execution_count": 188,
   "metadata": {},
   "outputs": [
    {
     "data": {
      "text/plain": [
       "Text(0,0.5,'Total number of crimes per 1000 people')"
      ]
     },
     "execution_count": 188,
     "metadata": {},
     "output_type": "execute_result"
    },
    {
     "data": {
      "image/png": "[encoded data removed]",
      "text/plain": [
       "<matplotlib.figure.Figure at 0x7f126c1551d0>"
      ]
     },
     "metadata": {},
     "output_type": "display_data"
    }
   ],
   "source": [
    "plt.figure(figsize=(15,5))\n",
    "yearly_index_urban.plot()\n",
    "plt.xlabel('Year')\n",
    "plt.ylabel('Total number of crimes per 1000 people')"
   ]
  },
  {
   "cell_type": "markdown",
   "metadata": {},
   "source": [
    "Fig2: A plot showing the total number of crimes per 1000 people in the city of New York plotted against year starting from 1990 to 2016"
   ]
  },
  {
   "cell_type": "markdown",
   "metadata": {},
   "source": [
    "*** From the graph it clearly looks like the crime rate has decreased ***"
   ]
  },
  {
   "cell_type": "markdown",
   "metadata": {},
   "source": [
    "### Use Summary Statistics"
   ]
  },
  {
   "cell_type": "code",
   "execution_count": 140,
   "metadata": {},
   "outputs": [],
   "source": [
    "# Partitioning the data\n",
    "yearly_index_urban_first = yearly_index_urban.iloc[:5]\n",
    "\n",
    "yearly_index_urban_last = yearly_index_urban.iloc[-5:]"
   ]
  },
  {
   "cell_type": "code",
   "execution_count": 143,
   "metadata": {},
   "outputs": [
    {
     "data": {
      "text/plain": [
       "count     5.000000\n",
       "mean     85.776718\n",
       "std       9.661247\n",
       "min      72.356978\n",
       "25%      81.717980\n",
       "50%      85.047966\n",
       "75%      92.587601\n",
       "max      97.173067\n",
       "Name: index_per_thousand, dtype: float64"
      ]
     },
     "execution_count": 143,
     "metadata": {},
     "output_type": "execute_result"
    }
   ],
   "source": [
    "yearly_index_urban_first.describe()"
   ]
  },
  {
   "cell_type": "code",
   "execution_count": 144,
   "metadata": {},
   "outputs": [
    {
     "data": {
      "text/plain": [
       "count     5.000000\n",
       "mean     22.003844\n",
       "std       1.374560\n",
       "min      20.357615\n",
       "25%      21.044430\n",
       "50%      21.854184\n",
       "75%      23.148176\n",
       "max      23.614815\n",
       "Name: index_per_thousand, dtype: float64"
      ]
     },
     "execution_count": 144,
     "metadata": {},
     "output_type": "execute_result"
    }
   ],
   "source": [
    "yearly_index_urban_last.describe()"
   ]
  },
  {
   "cell_type": "code",
   "execution_count": 162,
   "metadata": {},
   "outputs": [
    {
     "name": "stdout",
     "output_type": "stream",
     "text": [
      "Ratio is: 3.89826060904\n"
     ]
    }
   ],
   "source": [
    "ratio = yearly_index_urban_first.mean()/yearly_index_urban_last.mean()\n",
    "\n",
    "print('Ratio is:', ratio)"
   ]
  },
  {
   "cell_type": "markdown",
   "metadata": {},
   "source": [
    "*** From the summary statistics it is clear that the mean number of crimes in NYC has decreased from 85 to 22 per thousand people ***"
   ]
  },
  {
   "cell_type": "code",
   "execution_count": 157,
   "metadata": {},
   "outputs": [],
   "source": [
    "result = adfuller(yearly_urban_data['index_per_thousand'])"
   ]
  },
  {
   "cell_type": "code",
   "execution_count": 158,
   "metadata": {},
   "outputs": [
    {
     "data": {
      "text/plain": [
       "(-5.6028238370206882,\n",
       " 1.2534776230808054e-06,\n",
       " 4,\n",
       " 22,\n",
       " {'1%': -3.7697326258452288,\n",
       "  '10%': -2.6425009917355373,\n",
       "  '5%': -3.0054255371900829},\n",
       " 32.264906769414324)"
      ]
     },
     "execution_count": 158,
     "metadata": {},
     "output_type": "execute_result"
    }
   ],
   "source": [
    "result"
   ]
  },
  {
   "cell_type": "code",
   "execution_count": 159,
   "metadata": {},
   "outputs": [
    {
     "name": "stdout",
     "output_type": "stream",
     "text": [
      "ADF Statistic: -5.602824\n",
      "p-value: 0.000001\n",
      "Critical Values:\n",
      "\t1%: -3.770\n",
      "\t5%: -3.005\n",
      "\t10%: -2.643\n"
     ]
    }
   ],
   "source": [
    "print('ADF Statistic: %f' % result[0])\n",
    "print('p-value: %f' % result[1])\n",
    "print('Critical Values:')\n",
    "for key, value in result[4].items():\n",
    "    print('\\t%s: %.3f' % (key, value))"
   ]
  },
  {
   "cell_type": "markdown",
   "metadata": {},
   "source": [
    "*** ADF result suggests that the series is stationary. But ADF is not a very strong test and the summary statistics suggest strongly that the series is decreasing. So we conclude that the crime rate per 1000 people in NYC is decreasing ***"
   ]
  },
  {
   "cell_type": "markdown",
   "metadata": {},
   "source": [
    "# Visualization of crime rates from 1990-2016 in NYC and rest of the NY state "
   ]
  },
  {
   "cell_type": "code",
   "execution_count": 191,
   "metadata": {},
   "outputs": [
    {
     "data": {
      "text/plain": [
       "Text(0,0.5,'Number of incidents')"
      ]
     },
     "execution_count": 191,
     "metadata": {},
     "output_type": "execute_result"
    },
    {
     "data": {
      "text/plain": [
       "<matplotlib.figure.Figure at 0x7f127ac2e358>"
      ]
     },
     "metadata": {},
     "output_type": "display_data"
    },
    {
     "data": {
      "image/png": "[encoded data removed]",
      "text/plain": [
       "<matplotlib.figure.Figure at 0x7f126c0c6400>"
      ]
     },
     "metadata": {},
     "output_type": "display_data"
    }
   ],
   "source": [
    "data_urban.groupby(['Year']).sum().drop(['Population'], axis =1).plot()\n",
    "plt.ylabel('Number of incidents')"
   ]
  },
  {
   "cell_type": "markdown",
   "metadata": {},
   "source": [
    "Fig3: Visualization of various crimes in the City of NYC "
   ]
  },
  {
   "cell_type": "code",
   "execution_count": 127,
   "metadata": {},
   "outputs": [
    {
     "data": {
      "text/plain": [
       "<matplotlib.axes._subplots.AxesSubplot at 0x7f127ae3efd0>"
      ]
     },
     "execution_count": 127,
     "metadata": {},
     "output_type": "execute_result"
    },
    {
     "data": {
      "image/png": "[encoded data removed]",
      "text/plain": [
       "<matplotlib.figure.Figure at 0x7f127adf8668>"
      ]
     },
     "metadata": {},
     "output_type": "display_data"
    }
   ],
   "source": [
    "data_rural.groupby(['Year']).sum().drop(['Population'], axis =1).plot()"
   ]
  },
  {
   "cell_type": "markdown",
   "metadata": {},
   "source": [
    "Fig4: Visualization of various crimes in the rest of the NY state"
   ]
  },
  {
   "cell_type": "markdown",
   "metadata": {},
   "source": [
    "# 4.How well can we predict the overall crime rate in NYC with this dataset?"
   ]
  },
  {
   "cell_type": "code",
   "execution_count": 163,
   "metadata": {},
   "outputs": [
    {
     "data": {
      "text/html": [
       "<div>\n",
       "<table border=\"1\" class=\"dataframe\">\n",
       "  <thead>\n",
       "    <tr style=\"text-align: right;\">\n",
       "      <th></th>\n",
       "      <th>County</th>\n",
       "      <th>Year</th>\n",
       "      <th>Population</th>\n",
       "      <th>Index Count</th>\n",
       "      <th>Index Rate</th>\n",
       "      <th>Violent Count</th>\n",
       "      <th>Violent Rate</th>\n",
       "      <th>Property Count</th>\n",
       "      <th>Property Rate</th>\n",
       "      <th>Firearm Count</th>\n",
       "      <th>Firearm Rate</th>\n",
       "      <th>place</th>\n",
       "    </tr>\n",
       "  </thead>\n",
       "  <tbody>\n",
       "    <tr>\n",
       "      <th>0</th>\n",
       "      <td>Albany</td>\n",
       "      <td>2016</td>\n",
       "      <td>308401.0</td>\n",
       "      <td>8764</td>\n",
       "      <td>2841.8</td>\n",
       "      <td>1102</td>\n",
       "      <td>357.3</td>\n",
       "      <td>7662</td>\n",
       "      <td>2484.4</td>\n",
       "      <td>126.0</td>\n",
       "      <td>40.9</td>\n",
       "      <td>rest</td>\n",
       "    </tr>\n",
       "    <tr>\n",
       "      <th>1</th>\n",
       "      <td>Albany</td>\n",
       "      <td>2015</td>\n",
       "      <td>308613.0</td>\n",
       "      <td>8635</td>\n",
       "      <td>2798.0</td>\n",
       "      <td>1041</td>\n",
       "      <td>337.3</td>\n",
       "      <td>7594</td>\n",
       "      <td>2460.7</td>\n",
       "      <td>114.0</td>\n",
       "      <td>36.9</td>\n",
       "      <td>rest</td>\n",
       "    </tr>\n",
       "    <tr>\n",
       "      <th>2</th>\n",
       "      <td>Albany</td>\n",
       "      <td>2014</td>\n",
       "      <td>308166.0</td>\n",
       "      <td>9181</td>\n",
       "      <td>2979.2</td>\n",
       "      <td>1003</td>\n",
       "      <td>325.5</td>\n",
       "      <td>8178</td>\n",
       "      <td>2653.8</td>\n",
       "      <td>147.0</td>\n",
       "      <td>47.7</td>\n",
       "      <td>rest</td>\n",
       "    </tr>\n",
       "    <tr>\n",
       "      <th>3</th>\n",
       "      <td>Albany</td>\n",
       "      <td>2013</td>\n",
       "      <td>306300.0</td>\n",
       "      <td>9457</td>\n",
       "      <td>3087.5</td>\n",
       "      <td>1006</td>\n",
       "      <td>328.4</td>\n",
       "      <td>8451</td>\n",
       "      <td>2759.1</td>\n",
       "      <td>150.0</td>\n",
       "      <td>49.0</td>\n",
       "      <td>rest</td>\n",
       "    </tr>\n",
       "    <tr>\n",
       "      <th>4</th>\n",
       "      <td>Albany</td>\n",
       "      <td>2012</td>\n",
       "      <td>305204.0</td>\n",
       "      <td>9975</td>\n",
       "      <td>3268.3</td>\n",
       "      <td>1012</td>\n",
       "      <td>331.6</td>\n",
       "      <td>8963</td>\n",
       "      <td>2936.7</td>\n",
       "      <td>137.0</td>\n",
       "      <td>44.9</td>\n",
       "      <td>rest</td>\n",
       "    </tr>\n",
       "  </tbody>\n",
       "</table>\n",
       "</div>"
      ],
      "text/plain": [
       "   County  Year  Population  Index Count  Index Rate  Violent Count  \\\n",
       "0  Albany  2016    308401.0         8764      2841.8           1102   \n",
       "1  Albany  2015    308613.0         8635      2798.0           1041   \n",
       "2  Albany  2014    308166.0         9181      2979.2           1003   \n",
       "3  Albany  2013    306300.0         9457      3087.5           1006   \n",
       "4  Albany  2012    305204.0         9975      3268.3           1012   \n",
       "\n",
       "   Violent Rate  Property Count  Property Rate  Firearm Count  Firearm Rate  \\\n",
       "0         357.3            7662         2484.4          126.0          40.9   \n",
       "1         337.3            7594         2460.7          114.0          36.9   \n",
       "2         325.5            8178         2653.8          147.0          47.7   \n",
       "3         328.4            8451         2759.1          150.0          49.0   \n",
       "4         331.6            8963         2936.7          137.0          44.9   \n",
       "\n",
       "  place  \n",
       "0  rest  \n",
       "1  rest  \n",
       "2  rest  \n",
       "3  rest  \n",
       "4  rest  "
      ]
     },
     "execution_count": 163,
     "metadata": {},
     "output_type": "execute_result"
    }
   ],
   "source": [
    "data1.head()"
   ]
  },
  {
   "cell_type": "code",
   "execution_count": 178,
   "metadata": {},
   "outputs": [],
   "source": [
    "y = data1['Index Rate']\n",
    "\n",
    "X = data1[['Year', 'Population', 'County']]"
   ]
  },
  {
   "cell_type": "code",
   "execution_count": 181,
   "metadata": {},
   "outputs": [],
   "source": [
    "X = pd.get_dummies(X)"
   ]
  },
  {
   "cell_type": "code",
   "execution_count": 182,
   "metadata": {},
   "outputs": [
    {
     "data": {
      "text/plain": [
       "((1121, 65), (553, 65), (1121,), (553,))"
      ]
     },
     "execution_count": 182,
     "metadata": {},
     "output_type": "execute_result"
    }
   ],
   "source": [
    "X_train, X_test, y_train, y_test = train_test_split(X, y, test_size=0.33, random_state=42)\n",
    "\n",
    "X_train.shape, X_test.shape, y_train.shape, y_test.shape"
   ]
  },
  {
   "cell_type": "code",
   "execution_count": 183,
   "metadata": {},
   "outputs": [
    {
     "name": "stderr",
     "output_type": "stream",
     "text": [
      "/opt/rh/anaconda/root/envs/PUI2016_Python3/lib/python3.5/site-packages/sklearn/linear_model/coordinate_descent.py:466: ConvergenceWarning: Objective did not converge. You might want to increase the number of iterations\n",
      "  ConvergenceWarning)\n"
     ]
    },
    {
     "name": "stdout",
     "output_type": "stream",
     "text": [
      "the train R-square using Ridge is :  0.801200958394\n",
      "the test R-square using Ridge is :  0.787497897615\n",
      "the train R-square using Lasso is :  0.801117369991\n",
      "the test R-square using Lasso is :  0.786287046662\n"
     ]
    },
    {
     "name": "stderr",
     "output_type": "stream",
     "text": [
      "/opt/rh/anaconda/root/envs/PUI2016_Python3/lib/python3.5/site-packages/sklearn/linear_model/coordinate_descent.py:466: ConvergenceWarning: Objective did not converge. You might want to increase the number of iterations\n",
      "  ConvergenceWarning)\n"
     ]
    }
   ],
   "source": [
    "alpha = [10**i for i in range(-5,5)]\n",
    "ridge = RidgeCV(alphas=alpha, cv=5).fit(X_train,y_train)\n",
    "lasso = LassoCV(alphas=alpha, cv=5).fit(X_train,y_train)\n",
    "print('the train R-square using Ridge is : ', ridge.score(X_train,y_train))\n",
    "print('the test R-square using Ridge is : ', ridge.score(X_test,y_test))\n",
    "\n",
    "print('the train R-square using Lasso is : ', lasso.score(X_train,y_train))\n",
    "print('the test R-square using Lasso is : ', lasso.score(X_test,y_test))\n",
    "\n"
   ]
  },
  {
   "cell_type": "markdown",
   "metadata": {},
   "source": [
    "The test R-square obtained here using only the year, county and population as parameters is 0.787 using Ridge regression and cross validation. With this limited dataset we are able to explain 78.7% of the variance\n"
   ]
  },
  {
   "cell_type": "markdown",
   "metadata": {},
   "source": []
  }
 ],
 "metadata": {
  "kernelspec": {
   "display_name": "PUI2016_Python3",
   "language": "python",
   "name": "pui2016_python3"
  },
  "language_info": {
   "codemirror_mode": {
    "name": "ipython",
    "version": 3
   },
   "file_extension": ".py",
   "mimetype": "text/x-python",
   "name": "python",
   "nbconvert_exporter": "python",
   "pygments_lexer": "ipython3",
   "version": "3.5.4"
  }
 },
 "nbformat": 4,
 "nbformat_minor": 2
}
