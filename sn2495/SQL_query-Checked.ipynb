{
 "cells": [
  {
   "cell_type": "markdown",
   "metadata": {},
   "source": [
    "# SQL CARTO QUERY FUNCTION\n",
    "# written for PUI2016_Python2"
   ]
  },
  {
   "cell_type": "markdown",
   "metadata": {},
   "source": [
    "##### This notebook is set up to link as a default to the fb55 account.  To turn in the homework use the same account you used in the lab (hvt201)  and query the database that you were querying in class (citibike_feb_2015)"
   ]
  },
  {
   "cell_type": "code",
   "execution_count": 1,
   "metadata": {},
   "outputs": [
    {
     "ename": "SyntaxError",
     "evalue": "invalid syntax (<ipython-input-1-f72611ef3fa3>, line 25)",
     "output_type": "error",
     "traceback": [
      "\u001b[0;36m  File \u001b[0;32m\"<ipython-input-1-f72611ef3fa3>\"\u001b[0;36m, line \u001b[0;32m25\u001b[0m\n\u001b[0;31m    except urllib2.HTTPError, e:\u001b[0m\n\u001b[0m                            ^\u001b[0m\n\u001b[0;31mSyntaxError\u001b[0m\u001b[0;31m:\u001b[0m invalid syntax\n"
     ]
    }
   ],
   "source": [
    "from __future__ import print_function, generators\n",
    "\n",
    "SQL_SOURCE = 'https://sn2495.carto.com/api/v2/sql?q='\n",
    "\n",
    "import urllib2\n",
    "import urllib\n",
    "import StringIO\n",
    "import ast\n",
    "import pandas as pd\n",
    "\n",
    "def queryCartoDB(query, format='CSV', source=SQL_SOURCE):\n",
    "    '''queries carto datasets from a given carto account\n",
    "    Arguments: \n",
    "    query - string: a valid sql query string\n",
    "    format - outlut format  OPTIONAL (default CSV)\n",
    "    source - a valid sql api endpoint OPTIONAL (default carto fb55 account)\n",
    "    Returns:\n",
    "    the return of the sql query AS A STRING\n",
    "    NOTES:\n",
    "    designed for the carto API, tested only with CSV return format'''\n",
    "    \n",
    "    data = urllib.urlencode({'format': format, 'q': query})\n",
    "    try:\n",
    "        response = urllib2.urlopen(source, data)\n",
    "    except urllib2.HTTPError, e:\n",
    "        raise ValueError('\\n'.join(ast.literal_eval(e.readline())['error']))\n",
    "    except Exception:\n",
    "        raise\n",
    "    return response.read()"
   ]
  },
  {
   "cell_type": "code",
   "execution_count": null,
   "metadata": {},
   "outputs": [],
   "source": [
    "test = '''\n",
    "SELECT *\n",
    "FROM citibike\n",
    "'''"
   ]
  },
  {
   "cell_type": "code",
   "execution_count": null,
   "metadata": {},
   "outputs": [],
   "source": [
    "pd.read_csv(StringIO.StringIO(queryCartoDB(test)), sep=',')"
   ]
  },
  {
   "cell_type": "code",
   "execution_count": null,
   "metadata": {},
   "outputs": [],
   "source": [
    "task_1_1 = '''\n",
    "SELECT * FROM citibike\n",
    "\n",
    "WHERE tripduration<10800\n",
    "\n",
    "ORDER BY start_station_id, tripduration\n",
    "\n",
    "'''\n"
   ]
  },
  {
   "cell_type": "code",
   "execution_count": null,
   "metadata": {},
   "outputs": [],
   "source": [
    "pd.read_csv(StringIO.StringIO(queryCartoDB(task_1_1)), sep=',')"
   ]
  },
  {
   "cell_type": "code",
   "execution_count": null,
   "metadata": {},
   "outputs": [],
   "source": [
    "task_1_2 = '''\n",
    "SELECT * FROM citibike\n",
    "\n",
    "LIMIT 10'''\n",
    "\n",
    "\n",
    "pd.read_csv(StringIO.StringIO(queryCartoDB(task_1_2)), sep=',')"
   ]
  },
  {
   "cell_type": "code",
   "execution_count": null,
   "metadata": {},
   "outputs": [],
   "source": [
    "task_1_3 = '''\n",
    "SELECT distinct start_station_id\n",
    "\n",
    "FROM citibike\n",
    "\n",
    "'''\n",
    "\n",
    "\n",
    "pd.read_csv(StringIO.StringIO(queryCartoDB(task_1_3)), sep=',')"
   ]
  },
  {
   "cell_type": "code",
   "execution_count": null,
   "metadata": {},
   "outputs": [],
   "source": [
    "task_1_4 = '''\n",
    "SELECT COUNT(start_station_id)\n",
    "FROM citibike\n",
    "WHERE tripduration<10800\n",
    "\n",
    "'''\n",
    "\n",
    "\n",
    "pd.read_csv(StringIO.StringIO(queryCartoDB(task_1_4)), sep=',')"
   ]
  },
  {
   "cell_type": "code",
   "execution_count": null,
   "metadata": {},
   "outputs": [],
   "source": [
    "task_1_5 = '''\n",
    "SELECT avg(tripduration)\n",
    "FROM citibike\n",
    "\n",
    "'''\n",
    "\n",
    "\n",
    "pd.read_csv(StringIO.StringIO(queryCartoDB(task_1_5)), sep=',')"
   ]
  },
  {
   "cell_type": "code",
   "execution_count": null,
   "metadata": {},
   "outputs": [],
   "source": [
    "task_1_6 = '''\n",
    "SELECT min(tripduration)\n",
    "FROM citibike\n",
    "\n",
    "'''\n",
    "\n",
    "\n",
    "pd.read_csv(StringIO.StringIO(queryCartoDB(task_1_6)), sep=',')"
   ]
  },
  {
   "cell_type": "code",
   "execution_count": null,
   "metadata": {},
   "outputs": [],
   "source": [
    "task_1_7 = '''\n",
    "SELECT max(tripduration)\n",
    "FROM citibike\n",
    "\n",
    "'''\n",
    "\n",
    "\n",
    "pd.read_csv(StringIO.StringIO(queryCartoDB(task_1_7)), sep=',')"
   ]
  },
  {
   "cell_type": "code",
   "execution_count": null,
   "metadata": {},
   "outputs": [],
   "source": [
    "task_2_1 = '''\n",
    "SELECT * FROM citibike\n",
    "\n",
    "where starttime>'2015-02-02' and starttime<'2015-02-03'\n",
    "\n",
    "'''\n",
    "\n",
    "\n",
    "pd.read_csv(StringIO.StringIO(queryCartoDB(task_2_1)), sep=',')"
   ]
  },
  {
   "cell_type": "code",
   "execution_count": null,
   "metadata": {},
   "outputs": [],
   "source": [
    "task_2_2 = '''\n",
    "SELECT avg(citibike.tripduration)\n",
    "\n",
    "from citibike\n",
    "\n",
    "where extract(dow from citibike.starttime)>=5\n",
    "\n",
    "'''\n",
    "\n",
    "\n",
    "pd.read_csv(StringIO.StringIO(queryCartoDB(task_2_2)), sep=',')"
   ]
  },
  {
   "cell_type": "code",
   "execution_count": null,
   "metadata": {},
   "outputs": [],
   "source": [
    "task_2_3 = '''\n",
    "SELECT avg(citibike.tripduration)\n",
    "\n",
    "from citibike\n",
    "\n",
    "where extract(dow from citibike.starttime)<5\n",
    "\n",
    "\n",
    "'''\n",
    "\n",
    "\n",
    "pd.read_csv(StringIO.StringIO(queryCartoDB(task_2_3)), sep=',')"
   ]
  },
  {
   "cell_type": "code",
   "execution_count": null,
   "metadata": {},
   "outputs": [],
   "source": [
    "task_3_1 = '''\n",
    "SELECT distinct start_station_id, start_station_latitude, start_station_longitude\n",
    "\n",
    "FROM citibike\n",
    "\n",
    "group by start_station_id, start_station_latitude, start_station_longitude\n",
    "\n",
    "\n",
    "'''\n",
    "\n",
    "\n",
    "pd.read_csv(StringIO.StringIO(queryCartoDB(task_3_1)), sep=',')"
   ]
  },
  {
   "cell_type": "code",
   "execution_count": null,
   "metadata": {},
   "outputs": [],
   "source": [
    "task_3_2 = '''\n",
    "SELECT DISTINCT start_station_id,start_station_latitude, start_station_longitude, count(starttime)\n",
    "\n",
    "from citibike\n",
    "\n",
    "WHERE ST_DWithin(CDB_latLng(start_station_latitude,start_station_longitude)::geography,\n",
    "\n",
    "                 CDB_LatLng(40.7577, -73.9857)::geography,\n",
    "\n",
    "                 500)\n",
    "\n",
    "GROUP BY start_station_id,start_station_latitude, start_station_longitude\n",
    "\n",
    "'''\n",
    "\n",
    "\n",
    "pd.read_csv(StringIO.StringIO(queryCartoDB(task_3_2)), sep=',')"
   ]
  },
  {
   "cell_type": "code",
   "execution_count": null,
   "metadata": {},
   "outputs": [],
   "source": [
    "task_4_1 = '''\n",
    "Select max(avg_trp)\n",
    "\n",
    "FROM \n",
    "(SELECT DISTINCT start_station_id,start_station_latitude, start_station_longitude, avg(tripduration) as avg_trp\n",
    "\n",
    "from citibike\n",
    "\n",
    "WHERE ST_DWithin(CDB_latLng(start_station_latitude,start_station_longitude)::geography,\n",
    "\n",
    "                 CDB_LatLng(40.7577, -73.9857)::geography,\n",
    "\n",
    "                 500)\n",
    "\n",
    "GROUP BY start_station_id,start_station_latitude, start_station_longitude) as subquery\n",
    "\n",
    "'''\n",
    "\n",
    "\n",
    "pd.read_csv(StringIO.StringIO(queryCartoDB(task_4_1)), sep=',')"
   ]
  },
  {
   "cell_type": "code",
   "execution_count": null,
   "metadata": {},
   "outputs": [],
   "source": [
    "task_4_2 = '''\n",
    "SELECT ST_Makeline(\n",
    "\n",
    "\tCDB_TransformToWebmercator(\n",
    "\n",
    "  \t\tCDB_LatLng(start_station_latitude,\n",
    "\n",
    "                  start_station_longitude)),\n",
    "\n",
    "\n",
    "\n",
    "\tCDB_TransformToWebmercator(\n",
    "\n",
    "  \t\tCDB_LatLng(end_station_latitude,\n",
    "\n",
    "                  end_station_longitude))\n",
    "\t) as the_geom_webmercator, MIN(cartodb_id) as cartodb_id , \n",
    "    \tavg(tripduration) as ta, count(starttime) as tripcount\n",
    "  \n",
    "  \n",
    "  \n",
    "  FROM citibike  \n",
    "\n",
    "WHERE ST_DWithin(CDB_latLng(start_station_latitude,start_station_longitude)::geography,\n",
    "\n",
    "                 CDB_LatLng(40.7577, -73.9857)::geography,\n",
    "\n",
    "                 500) and tripduration < 7200\n",
    "                 \n",
    "group by start_station_id, start_station_latitude, start_station_longitude,\n",
    " \t\t\tend_station_id, end_station_latitude, end_station_longitude\n",
    "\n",
    "'''\n",
    "\n",
    "\n",
    "pd.read_csv(StringIO.StringIO(queryCartoDB(task_4_2)), sep=',')"
   ]
  },
  {
   "cell_type": "markdown",
   "metadata": {},
   "source": [
    "## ASH - Score 100. Extra Credit 0"
   ]
  },
  {
   "cell_type": "markdown",
   "metadata": {
    "collapsed": true
   },
   "source": [
    "# extra credit: make the function python 2 and 3 compatible so that it works on the  PUI2016_Python3 kernel"
   ]
  },
  {
   "cell_type": "code",
   "execution_count": null,
   "metadata": {},
   "outputs": [],
   "source": []
  },
  {
   "cell_type": "code",
   "execution_count": null,
   "metadata": {},
   "outputs": [],
   "source": []
  },
  {
   "cell_type": "code",
   "execution_count": null,
   "metadata": {},
   "outputs": [],
   "source": []
  },
  {
   "cell_type": "code",
   "execution_count": null,
   "metadata": {},
   "outputs": [],
   "source": []
  }
 ],
 "metadata": {
  "anaconda-cloud": {},
  "kernelspec": {
   "display_name": "PUI2016_Python3",
   "language": "python",
   "name": "pui2016_python3"
  },
  "language_info": {
   "codemirror_mode": {
    "name": "ipython",
    "version": 3
   },
   "file_extension": ".py",
   "mimetype": "text/x-python",
   "name": "python",
   "nbconvert_exporter": "python",
   "pygments_lexer": "ipython3",
   "version": "3.5.4"
  }
 },
 "nbformat": 4,
 "nbformat_minor": 1
}
